{
 "cells": [
  {
   "cell_type": "code",
   "execution_count": 1,
   "id": "3b4e1228",
   "metadata": {},
   "outputs": [],
   "source": [
    "import pandas as pd\n",
    "import numpy as np"
   ]
  },
  {
   "cell_type": "code",
   "execution_count": 2,
   "id": "fb6143e8",
   "metadata": {},
   "outputs": [],
   "source": [
    "data_url = 'https://github.com/ine-rmotr-projects/project-files/files/4086772/playstore.xlsx'"
   ]
  },
  {
   "cell_type": "code",
   "execution_count": 3,
   "id": "741fe2cd",
   "metadata": {},
   "outputs": [
    {
     "data": {
      "text/plain": [
       "'https://github.com/ine-rmotr-projects/project-files/files/4086772/playstore.xlsx'"
      ]
     },
     "execution_count": 3,
     "metadata": {},
     "output_type": "execute_result"
    }
   ],
   "source": [
    "data_url"
   ]
  },
  {
   "cell_type": "code",
   "execution_count": 6,
   "id": "a657c303",
   "metadata": {},
   "outputs": [],
   "source": [
    "playstore_df= pd.read_excel(data_url,\n",
    "                           parse_dates=['Last_Updated'],\n",
    "                           usecols=['App', 'Rating', 'Installs', 'Rating', 'Genres', 'Last_Updated'])\n",
    "\n",
    "playstore_df= playstore_df.sort_values('Rating', ascending=False).head(25)"
   ]
  },
  {
   "cell_type": "code",
   "execution_count": null,
   "id": "4cd9f485",
   "metadata": {},
   "outputs": [],
   "source": []
  }
 ],
 "metadata": {
  "kernelspec": {
   "display_name": "Python 3 (ipykernel)",
   "language": "python",
   "name": "python3"
  },
  "language_info": {
   "codemirror_mode": {
    "name": "ipython",
    "version": 3
   },
   "file_extension": ".py",
   "mimetype": "text/x-python",
   "name": "python",
   "nbconvert_exporter": "python",
   "pygments_lexer": "ipython3",
   "version": "3.8.12"
  },
  "toc": {
   "base_numbering": 1,
   "nav_menu": {},
   "number_sections": true,
   "sideBar": true,
   "skip_h1_title": false,
   "title_cell": "Table of Contents",
   "title_sidebar": "Contents",
   "toc_cell": false,
   "toc_position": {},
   "toc_section_display": true,
   "toc_window_display": false
  }
 },
 "nbformat": 4,
 "nbformat_minor": 5
}
