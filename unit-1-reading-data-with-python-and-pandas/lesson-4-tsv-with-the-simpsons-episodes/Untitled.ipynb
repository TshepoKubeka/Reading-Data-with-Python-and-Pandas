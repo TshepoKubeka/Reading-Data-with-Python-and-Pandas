{
 "cells": [
  {
   "cell_type": "code",
   "execution_count": 1,
   "id": "71cf111e",
   "metadata": {},
   "outputs": [],
   "source": [
    "import numpy as np\n",
    "import pandas as pd"
   ]
  },
  {
   "cell_type": "code",
   "execution_count": 5,
   "id": "b89c34c6",
   "metadata": {},
   "outputs": [],
   "source": [
    "col_names = ['Title', 'Air date', 'Production code', 'Season', 'Number in season',\n",
    "            'Number in series', 'US viewers(million)', 'Views', 'IMDB rating']\n",
    "\n",
    "select_cols = ['Title', 'Air date', 'Production code', 'IMDB rating']\n",
    "\n",
    "simpsons = pd.read_csv('files/simpsons-episodes.tsv',\n",
    "                      sep = '\\t',\n",
    "                      encoding= 'UTF-8',\n",
    "                      names = col_names,\n",
    "                      usecols=select_cols,\n",
    "                      skiprows=4,\n",
    "                      index_col='Production code',\n",
    "                       na_values= ['no_val'],\n",
    "                       parse_dates= ['Air date']\n",
    "                      )"
   ]
  },
  {
   "cell_type": "code",
   "execution_count": 6,
   "id": "ff6bffdf",
   "metadata": {},
   "outputs": [
    {
     "data": {
      "text/html": [
       "<div>\n",
       "<style scoped>\n",
       "    .dataframe tbody tr th:only-of-type {\n",
       "        vertical-align: middle;\n",
       "    }\n",
       "\n",
       "    .dataframe tbody tr th {\n",
       "        vertical-align: top;\n",
       "    }\n",
       "\n",
       "    .dataframe thead th {\n",
       "        text-align: right;\n",
       "    }\n",
       "</style>\n",
       "<table border=\"1\" class=\"dataframe\">\n",
       "  <thead>\n",
       "    <tr style=\"text-align: right;\">\n",
       "      <th></th>\n",
       "      <th>Title</th>\n",
       "      <th>Air date</th>\n",
       "      <th>IMDB rating</th>\n",
       "    </tr>\n",
       "    <tr>\n",
       "      <th>Production code</th>\n",
       "      <th></th>\n",
       "      <th></th>\n",
       "      <th></th>\n",
       "    </tr>\n",
       "  </thead>\n",
       "  <tbody>\n",
       "    <tr>\n",
       "      <th>7F01</th>\n",
       "      <td>Two Cars in Every Garage and Three Eyes on Eve...</td>\n",
       "      <td>1990-01-11</td>\n",
       "      <td>8.1</td>\n",
       "    </tr>\n",
       "    <tr>\n",
       "      <th>7F08</th>\n",
       "      <td>NaN</td>\n",
       "      <td>1990-11-15</td>\n",
       "      <td>8.0</td>\n",
       "    </tr>\n",
       "    <tr>\n",
       "      <th>7F06</th>\n",
       "      <td>Bart the Daredevil</td>\n",
       "      <td>1990-06-12</td>\n",
       "      <td>NaN</td>\n",
       "    </tr>\n",
       "    <tr>\n",
       "      <th>NaN</th>\n",
       "      <td>Bart Gets Hit by a Car</td>\n",
       "      <td>1991-10-01</td>\n",
       "      <td>7.8</td>\n",
       "    </tr>\n",
       "    <tr>\n",
       "      <th>7F13</th>\n",
       "      <td>Homer vs. Lisa and the 8th Commandment</td>\n",
       "      <td>1991-07-02</td>\n",
       "      <td>8.0</td>\n",
       "    </tr>\n",
       "  </tbody>\n",
       "</table>\n",
       "</div>"
      ],
      "text/plain": [
       "                                                             Title   Air date  \\\n",
       "Production code                                                                 \n",
       "7F01             Two Cars in Every Garage and Three Eyes on Eve... 1990-01-11   \n",
       "7F08                                                           NaN 1990-11-15   \n",
       "7F06                                            Bart the Daredevil 1990-06-12   \n",
       "NaN                                         Bart Gets Hit by a Car 1991-10-01   \n",
       "7F13                        Homer vs. Lisa and the 8th Commandment 1991-07-02   \n",
       "\n",
       "                 IMDB rating  \n",
       "Production code               \n",
       "7F01                     8.1  \n",
       "7F08                     8.0  \n",
       "7F06                     NaN  \n",
       "NaN                      7.8  \n",
       "7F13                     8.0  "
      ]
     },
     "execution_count": 6,
     "metadata": {},
     "output_type": "execute_result"
    }
   ],
   "source": [
    "simpsons.head()"
   ]
  },
  {
   "cell_type": "code",
   "execution_count": null,
   "id": "4819ae1b",
   "metadata": {},
   "outputs": [],
   "source": []
  }
 ],
 "metadata": {
  "kernelspec": {
   "display_name": "Python 3 (ipykernel)",
   "language": "python",
   "name": "python3"
  },
  "language_info": {
   "codemirror_mode": {
    "name": "ipython",
    "version": 3
   },
   "file_extension": ".py",
   "mimetype": "text/x-python",
   "name": "python",
   "nbconvert_exporter": "python",
   "pygments_lexer": "ipython3",
   "version": "3.8.12"
  },
  "toc": {
   "base_numbering": 1,
   "nav_menu": {},
   "number_sections": true,
   "sideBar": true,
   "skip_h1_title": false,
   "title_cell": "Table of Contents",
   "title_sidebar": "Contents",
   "toc_cell": false,
   "toc_position": {},
   "toc_section_display": true,
   "toc_window_display": false
  }
 },
 "nbformat": 4,
 "nbformat_minor": 5
}
